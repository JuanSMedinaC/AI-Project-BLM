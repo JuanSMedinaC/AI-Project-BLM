{
 "cells": [
  {
   "cell_type": "code",
<<<<<<< HEAD
   "execution_count": 2,
=======
   "execution_count": 1,
>>>>>>> 7312f986cdb31802437d85a363f506923a581fbc
   "metadata": {},
   "outputs": [],
   "source": [
    "import pandas as pd\n",
    "import numpy as np\n",
    "import matplotlib.pyplot as plt\n",
    "import json\n",
    "import os"
   ]
  },
  {
   "cell_type": "code",
   "execution_count": 10,
   "metadata": {},
   "outputs": [
    {
     "data": {
      "text/plain": [
       "'approach'"
      ]
     },
     "execution_count": 10,
     "metadata": {},
     "output_type": "execute_result"
    }
   ],
   "source": [
    "json_file_path = os.path.join(\"./annotations\", \"bapproach1.json\")\n",
    "with open(json_file_path, 'r') as f:\n",
    "    single_json_data = json.load(f)\n",
    "\n",
    "single_json_data\n",
    "categories = single_json_data[\"categories\"]\n",
    "annotations = single_json_data[\"annotations\"]\n",
    "categories\n",
    "annotations\n",
    "categories[annotations[0][\"category_id\"]-1][\"name\"]"
   ]
  },
  {
   "cell_type": "code",
<<<<<<< HEAD
   "execution_count": 10,
=======
   "execution_count": 11,
>>>>>>> 7312f986cdb31802437d85a363f506923a581fbc
   "metadata": {},
   "outputs": [
    {
     "name": "stdout",
     "output_type": "stream",
     "text": [
      "Procesado: bapproach1.json -> ./labeled_output\\bapproach1.csv\n",
      "Procesado: bapproach2.json -> ./labeled_output\\bapproach2.csv\n",
      "Procesado: bapproach3.json -> ./labeled_output\\bapproach3.csv\n",
      "Procesado: bback1.json -> ./labeled_output\\bback1.csv\n",
      "Procesado: bback2.json -> ./labeled_output\\bback2.csv\n",
      "Procesado: bback3.json -> ./labeled_output\\bback3.csv\n",
      "Procesado: bjump1.json -> ./labeled_output\\bjump1.csv\n",
      "Procesado: bjump2.json -> ./labeled_output\\bjump2.csv\n",
      "Procesado: bjump3.json -> ./labeled_output\\bjump3.csv\n",
      "Procesado: blturn1.json -> ./labeled_output\\blturn1.csv\n",
      "Procesado: blturn2.json -> ./labeled_output\\blturn2.csv\n",
      "Procesado: blturn3.json -> ./labeled_output\\blturn3.csv\n",
      "Procesado: blwalk1.json -> ./labeled_output\\blwalk1.csv\n",
      "Procesado: blwalk2.json -> ./labeled_output\\blwalk2.csv\n",
      "Procesado: brturn1.json -> ./labeled_output\\brturn1.csv\n",
      "Procesado: brturn2.json -> ./labeled_output\\brturn2.csv\n",
      "Procesado: brturn3.json -> ./labeled_output\\brturn3.csv\n",
      "Procesado: brwalk1.json -> ./labeled_output\\brwalk1.csv\n",
      "Procesado: brwalk2.json -> ./labeled_output\\brwalk2.csv\n",
      "Procesado: brwalk3.json -> ./labeled_output\\brwalk3.csv\n",
      "Procesado: bsit1.json -> ./labeled_output\\bsit1.csv\n",
      "Procesado: bsit2.json -> ./labeled_output\\bsit2.csv\n",
      "Procesado: bsit3.json -> ./labeled_output\\bsit3.csv\n",
<<<<<<< HEAD
      "Procesado: japproach1.json -> ./labeled_output\\japproach1.csv\n",
      "Procesado: japproach2.json -> ./labeled_output\\japproach2.csv\n",
      "Procesado: japproach3.json -> ./labeled_output\\japproach3.csv\n",
      "Procesado: japproach4.json -> ./labeled_output\\japproach4.csv\n",
      "El archivo CSV para jback1.json no existe. Saltando...\n",
      "Procesado: jback2.json -> ./labeled_output\\jback2.csv\n",
      "Procesado: jback3.json -> ./labeled_output\\jback3.csv\n",
      "Procesado: jback4.json -> ./labeled_output\\jback4.csv\n",
      "Procesado: jjump2.json -> ./labeled_output\\jjump2.csv\n",
      "Procesado: jjump4.json -> ./labeled_output\\jjump4.csv\n",
      "Procesado: jlturn2.json -> ./labeled_output\\jlturn2.csv\n",
      "Procesado: jlturn3.json -> ./labeled_output\\jlturn3.csv\n",
      "Procesado: jlwalk1.json -> ./labeled_output\\jlwalk1.csv\n",
      "Procesado: jlwalk2.json -> ./labeled_output\\jlwalk2.csv\n",
      "Procesado: jrturn1.json -> ./labeled_output\\jrturn1.csv\n",
      "Procesado: jrturn2.json -> ./labeled_output\\jrturn2.csv\n",
      "Procesado: jrwalk1.json -> ./labeled_output\\jrwalk1.csv\n",
      "Procesado: jrwalk2.json -> ./labeled_output\\jrwalk2.csv\n",
      "Procesado: jsit3.json -> ./labeled_output\\jsit3.csv\n",
      "Procesado: jstand1.json -> ./labeled_output\\jstand1.csv\n",
      "Procesado: jstand4.json -> ./labeled_output\\jstand4.csv\n",
=======
      "Procesado: sapproach1.json -> ./labeled_output\\sapproach1.csv\n",
      "Procesado: sapproach2.json -> ./labeled_output\\sapproach2.csv\n",
      "Procesado: sapproach3.json -> ./labeled_output\\sapproach3.csv\n",
      "Procesado: sapproach4.json -> ./labeled_output\\sapproach4.csv\n",
      "Procesado: sapproach5.json -> ./labeled_output\\sapproach5.csv\n",
      "Procesado: sapproach6.json -> ./labeled_output\\sapproach6.csv\n",
      "Procesado: sback1.json -> ./labeled_output\\sback1.csv\n",
      "Procesado: sback2.json -> ./labeled_output\\sback2.csv\n",
      "Procesado: sback3.json -> ./labeled_output\\sback3.csv\n",
      "Procesado: sback4.json -> ./labeled_output\\sback4.csv\n",
      "Procesado: sback5.json -> ./labeled_output\\sback5.csv\n",
      "Procesado: sback6.json -> ./labeled_output\\sback6.csv\n",
      "Procesado: sback7.json -> ./labeled_output\\sback7.csv\n",
      "Procesado: sback8.json -> ./labeled_output\\sback8.csv\n",
      "Procesado: sjump1.json -> ./labeled_output\\sjump1.csv\n",
      "Procesado: sjump2.json -> ./labeled_output\\sjump2.csv\n",
      "Procesado: sjump3.json -> ./labeled_output\\sjump3.csv\n",
      "Procesado: sjump4.json -> ./labeled_output\\sjump4.csv\n",
      "Procesado: sjump5.json -> ./labeled_output\\sjump5.csv\n",
      "Procesado: sjump6.json -> ./labeled_output\\sjump6.csv\n",
      "Procesado: slturn1.json -> ./labeled_output\\slturn1.csv\n",
      "Procesado: slturn2.json -> ./labeled_output\\slturn2.csv\n",
      "Procesado: slwalk1.json -> ./labeled_output\\slwalk1.csv\n",
      "Procesado: slwalk2.json -> ./labeled_output\\slwalk2.csv\n",
      "Procesado: slwalk3.json -> ./labeled_output\\slwalk3.csv\n",
      "Procesado: srturn1.json -> ./labeled_output\\srturn1.csv\n",
      "Procesado: srturn2.json -> ./labeled_output\\srturn2.csv\n",
      "Procesado: srwalk1.json -> ./labeled_output\\srwalk1.csv\n",
      "Procesado: srwalk2.json -> ./labeled_output\\srwalk2.csv\n",
      "Procesado: srwalk3.json -> ./labeled_output\\srwalk3.csv\n",
      "Procesado: ssit1.json -> ./labeled_output\\ssit1.csv\n",
      "Procesado: ssit2.json -> ./labeled_output\\ssit2.csv\n",
      "Procesado: ssit3.json -> ./labeled_output\\ssit3.csv\n",
      "Procesado: sstand1.json -> ./labeled_output\\sstand1.csv\n",
      "Procesado: sstand2.json -> ./labeled_output\\sstand2.csv\n",
>>>>>>> 7312f986cdb31802437d85a363f506923a581fbc
      "Procesamiento completado.\n"
     ]
    }
   ],
   "source": [
    "import os\n",
    "import json\n",
    "import pandas as pd\n",
    "\n",
    "json_folder = \"./annotations\"\n",
    "csv_folder = \"./output\"\n",
    "output_folder = \"./labeled_output\"\n",
    "\n",
    "os.makedirs(output_folder, exist_ok=True)\n",
    "\n",
    "for json_file in os.listdir(json_folder):\n",
    "    if json_file.endswith(\".json\"):\n",
    "        json_path = os.path.join(json_folder, json_file)\n",
    "        csv_path = os.path.join(csv_folder, json_file.replace(\".json\", \".csv\"))\n",
    "        \n",
    "        if not os.path.exists(csv_path):\n",
    "            print(f\"El archivo CSV para {json_file} no existe. Saltando...\")\n",
    "            continue\n",
    "        \n",
    "        with open(json_path, 'r') as f:\n",
    "            json_data = json.load(f)\n",
    "\n",
    "        categories = json_data[\"categories\"]\n",
    "        \n",
    "        annotated_frames = {ann[\"image_id\"] for ann in json_data[\"annotations\"]}\n",
    "        annotated_frames_categories = {ann[\"category_id\"] for ann in json_data[\"annotations\"]}\n",
    "\n",
    "        csv_data = pd.read_csv(csv_path)\n",
    "\n",
    "        csv_data[\"annotation\"] = csv_data[\"frame\"].apply(\n",
    "            lambda frame: \"Still\" if frame not in annotated_frames else categories[json_data[\"annotations\"][list(annotated_frames)[0]][\"category_id\"]-1][\"name\"]\n",
    "        )\n",
    "        \n",
    "        output_csv_path = os.path.join(output_folder, os.path.basename(csv_path))\n",
    "        csv_data.to_csv(output_csv_path, index=False)\n",
    "        print(f\"Procesado: {json_file} -> {output_csv_path}\")\n",
    "\n",
    "print(\"Procesamiento completado.\")"
   ]
  },
  {
   "cell_type": "code",
   "execution_count": null,
   "metadata": {},
   "outputs": [],
   "source": []
  }
 ],
 "metadata": {
  "kernelspec": {
   "display_name": "Python 3",
   "language": "python",
   "name": "python3"
  },
  "language_info": {
   "codemirror_mode": {
    "name": "ipython",
    "version": 3
   },
   "file_extension": ".py",
   "mimetype": "text/x-python",
   "name": "python",
   "nbconvert_exporter": "python",
   "pygments_lexer": "ipython3",
<<<<<<< HEAD
   "version": "3.12.7"
=======
   "version": "3.11.4"
>>>>>>> 7312f986cdb31802437d85a363f506923a581fbc
  }
 },
 "nbformat": 4,
 "nbformat_minor": 2
}
