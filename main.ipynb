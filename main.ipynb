{
 "cells": [
  {
   "cell_type": "code",
   "execution_count": 16,
   "metadata": {},
   "outputs": [],
   "source": [
    "import pandas as pd\n",
    "import numpy as np\n",
    "import matplotlib.pyplot as plt\n",
    "import json\n",
    "import os"
   ]
  },
  {
   "cell_type": "code",
   "execution_count": 31,
   "metadata": {},
   "outputs": [
    {
     "data": {
      "text/plain": [
       "'approach'"
      ]
     },
     "execution_count": 31,
     "metadata": {},
     "output_type": "execute_result"
    }
   ],
   "source": [
    "json_file_path = os.path.join(\"./annotations\", \"bapproach1.json\")\n",
    "with open(json_file_path, 'r') as f:\n",
    "    single_json_data = json.load(f)\n",
    "\n",
    "single_json_data\n",
    "categories = single_json_data[\"categories\"]\n",
    "annotations = single_json_data[\"annotations\"]\n",
    "categories\n",
    "annotations\n",
    "categories[annotations[0][\"category_id\"]-1][\"name\"]"
   ]
  },
  {
   "cell_type": "code",
   "execution_count": 43,
   "metadata": {},
   "outputs": [
    {
     "name": "stdout",
     "output_type": "stream",
     "text": [
      "Procesado: bapproach1.json -> ./labeled_output\\bapproach1.csv\n",
      "Procesado: bapproach2.json -> ./labeled_output\\bapproach2.csv\n",
      "Procesado: bapproach3.json -> ./labeled_output\\bapproach3.csv\n",
      "Procesado: bback1.json -> ./labeled_output\\bback1.csv\n",
      "Procesado: bback2.json -> ./labeled_output\\bback2.csv\n",
      "Procesado: bback3.json -> ./labeled_output\\bback3.csv\n",
      "Procesado: bjump1.json -> ./labeled_output\\bjump1.csv\n",
      "Procesado: bjump2.json -> ./labeled_output\\bjump2.csv\n",
      "Procesado: bjump3.json -> ./labeled_output\\bjump3.csv\n",
      "Procesado: blturn1.json -> ./labeled_output\\blturn1.csv\n",
      "Procesado: blturn2.json -> ./labeled_output\\blturn2.csv\n",
      "Procesado: blturn3.json -> ./labeled_output\\blturn3.csv\n",
      "Procesado: blwalk1.json -> ./labeled_output\\blwalk1.csv\n",
      "Procesado: blwalk2.json -> ./labeled_output\\blwalk2.csv\n",
      "Procesado: brturn1.json -> ./labeled_output\\brturn1.csv\n",
      "Procesado: brturn2.json -> ./labeled_output\\brturn2.csv\n",
      "Procesado: brturn3.json -> ./labeled_output\\brturn3.csv\n",
      "Procesado: brwalk1.json -> ./labeled_output\\brwalk1.csv\n",
      "Procesado: brwalk2.json -> ./labeled_output\\brwalk2.csv\n",
      "Procesado: brwalk3.json -> ./labeled_output\\brwalk3.csv\n",
      "Procesado: bsit1.json -> ./labeled_output\\bsit1.csv\n",
      "Procesado: bsit2.json -> ./labeled_output\\bsit2.csv\n",
      "Procesado: bsit3.json -> ./labeled_output\\bsit3.csv\n",
      "Procesamiento completado.\n"
     ]
    }
   ],
   "source": [
    "import os\n",
    "import json\n",
    "import pandas as pd\n",
    "\n",
    "json_folder = \"./annotations\"\n",
    "csv_folder = \"./output\"\n",
    "output_folder = \"./labeled_output\"\n",
    "\n",
    "os.makedirs(output_folder, exist_ok=True)\n",
    "\n",
    "for json_file in os.listdir(json_folder):\n",
    "    if json_file.endswith(\".json\"):\n",
    "        json_path = os.path.join(json_folder, json_file)\n",
    "        csv_path = os.path.join(csv_folder, json_file.replace(\".json\", \".csv\"))\n",
    "        \n",
    "        if not os.path.exists(csv_path):\n",
    "            print(f\"El archivo CSV para {json_file} no existe. Saltando...\")\n",
    "            continue\n",
    "        \n",
    "        with open(json_path, 'r') as f:\n",
    "            json_data = json.load(f)\n",
    "\n",
    "        categories = json_data[\"categories\"]\n",
    "        \n",
    "        annotated_frames = {ann[\"image_id\"] for ann in json_data[\"annotations\"]}\n",
    "        annotated_frames_categories = {ann[\"category_id\"] for ann in json_data[\"annotations\"]}\n",
    "\n",
    "        csv_data = pd.read_csv(csv_path)\n",
    "\n",
    "        csv_data[\"annotation\"] = csv_data[\"frame\"].apply(\n",
    "            lambda frame: \"Still\" if frame not in annotated_frames else categories[json_data[\"annotations\"][list(annotated_frames)[0]][\"category_id\"]-1][\"name\"]\n",
    "        )\n",
    "        \n",
    "        output_csv_path = os.path.join(output_folder, os.path.basename(csv_path))\n",
    "        csv_data.to_csv(output_csv_path, index=False)\n",
    "        print(f\"Procesado: {json_file} -> {output_csv_path}\")\n",
    "\n",
    "print(\"Procesamiento completado.\")"
   ]
  },
  {
   "cell_type": "code",
   "execution_count": null,
   "metadata": {},
   "outputs": [],
   "source": []
  }
 ],
 "metadata": {
  "kernelspec": {
   "display_name": "base",
   "language": "python",
   "name": "python3"
  },
  "language_info": {
   "codemirror_mode": {
    "name": "ipython",
    "version": 3
   },
   "file_extension": ".py",
   "mimetype": "text/x-python",
   "name": "python",
   "nbconvert_exporter": "python",
   "pygments_lexer": "ipython3",
   "version": "3.12.4"
  }
 },
 "nbformat": 4,
 "nbformat_minor": 2
}
